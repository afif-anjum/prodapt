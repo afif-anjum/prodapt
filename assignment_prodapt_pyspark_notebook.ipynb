{
 "cells": [
  {
   "cell_type": "code",
   "execution_count": 1,
   "metadata": {},
   "outputs": [],
   "source": [
    "import pyspark\n",
    "from pyspark.sql import SparkSession\n",
    "from pyspark.sql import SQLContext\n",
    "from pyspark.sql.functions import *\n",
    "from pyspark.sql.types import *\n",
    "sc = pyspark.SparkContext()\n",
    "spark = SparkSession(sc)\n",
    "sqlContext = SQLContext(sc)"
   ]
  },
  {
   "cell_type": "code",
   "execution_count": 2,
   "metadata": {},
   "outputs": [
    {
     "name": "stdout",
     "output_type": "stream",
     "text": [
      "root\n",
      " |-- _c0: string (nullable = true)\n",
      " |-- location_id: string (nullable = true)\n",
      " |-- client_mac: string (nullable = true)\n",
      " |-- freq_band: string (nullable = true)\n",
      " |-- mac_address: string (nullable = true)\n",
      " |-- country: string (nullable = true)\n",
      " |-- vendor_name: string (nullable = true)\n",
      " |-- rssi_percs_25: string (nullable = true)\n",
      " |-- rssi_percs_75: string (nullable = true)\n",
      " |-- isp: string (nullable = true)\n",
      " |-- total_bytes_tx: string (nullable = true)\n",
      " |-- total_bytes_rx: string (nullable = true)\n",
      " |-- ts: string (nullable = true)\n",
      " |-- txWeightedPhyRate: string (nullable = true)\n",
      " |-- rxWeightedPhyRate: string (nullable = true)\n",
      " |-- idtype: string (nullable = true)\n",
      " |-- is_static: string (nullable = true)\n",
      " |-- weighted_prr_tx: string (nullable = true)\n",
      " |-- weighted_prr_rx: string (nullable = true)\n",
      " |-- num_samples: string (nullable = true)\n",
      " |-- is_connected_to_pod: string (nullable = true)\n",
      " |-- pod_serial: string (nullable = true)\n",
      " |-- control_group: string (nullable = true)\n",
      " |-- bandCap2G: string (nullable = true)\n",
      " |-- bandCap5G: string (nullable = true)\n",
      " |-- maxMcs: string (nullable = true)\n",
      " |-- maxNss: string (nullable = true)\n",
      " |-- maxChWidth: string (nullable = true)\n",
      " |-- phyMode: string (nullable = true)\n",
      " |-- isBTMSupported: string (nullable = true)\n",
      "\n"
     ]
    }
   ],
   "source": [
    "#reading first file\n",
    "df1 = spark.read.option(\"header\",\"true\").csv('client_stats_sample_0225part1.csv')\n",
    "df1.printSchema()"
   ]
  },
  {
   "cell_type": "code",
   "execution_count": 3,
   "metadata": {},
   "outputs": [
    {
     "name": "stdout",
     "output_type": "stream",
     "text": [
      "root\n",
      " |-- _c0: string (nullable = true)\n",
      " |-- location_id: string (nullable = true)\n",
      " |-- client_mac: string (nullable = true)\n",
      " |-- freq_band: string (nullable = true)\n",
      " |-- mac_address: string (nullable = true)\n",
      " |-- country: string (nullable = true)\n",
      " |-- vendor_name: string (nullable = true)\n",
      " |-- rssi_percs_25: string (nullable = true)\n",
      " |-- rssi_percs_75: string (nullable = true)\n",
      " |-- isp: string (nullable = true)\n",
      " |-- total_bytes_tx: string (nullable = true)\n",
      " |-- total_bytes_rx: string (nullable = true)\n",
      " |-- ts: string (nullable = true)\n",
      " |-- txWeightedPhyRate: string (nullable = true)\n",
      " |-- rxWeightedPhyRate: string (nullable = true)\n",
      " |-- idtype: string (nullable = true)\n",
      " |-- is_static: string (nullable = true)\n",
      " |-- weighted_prr_tx: string (nullable = true)\n",
      " |-- weighted_prr_rx: string (nullable = true)\n",
      " |-- num_samples: string (nullable = true)\n",
      " |-- is_connected_to_pod: string (nullable = true)\n",
      " |-- pod_serial: string (nullable = true)\n",
      " |-- control_group: string (nullable = true)\n",
      " |-- bandCap2G: string (nullable = true)\n",
      " |-- bandCap5G: string (nullable = true)\n",
      " |-- maxMcs: string (nullable = true)\n",
      " |-- maxNss: string (nullable = true)\n",
      " |-- maxChWidth: string (nullable = true)\n",
      " |-- phyMode: string (nullable = true)\n",
      " |-- isBTMSupported: string (nullable = true)\n",
      "\n"
     ]
    }
   ],
   "source": [
    "#reading second file\n",
    "df2 = spark.read.option(\"header\",\"true\").csv('client_stats_sample_0225part2.csv')\n",
    "df2.printSchema()"
   ]
  },
  {
   "cell_type": "code",
   "execution_count": 4,
   "metadata": {},
   "outputs": [],
   "source": [
    "#appending both the file to get one final dataframe\n",
    "df = df1.union(df2)"
   ]
  },
  {
   "cell_type": "code",
   "execution_count": 5,
   "metadata": {},
   "outputs": [
    {
     "name": "stdout",
     "output_type": "stream",
     "text": [
      "700596\n"
     ]
    }
   ],
   "source": [
    "print(df.count())"
   ]
  },
  {
   "cell_type": "code",
   "execution_count": 6,
   "metadata": {},
   "outputs": [],
   "source": [
    "#filtering for null values\n",
    "df = df.filter(col(\"rssi_percs_25\").isNotNull())\n",
    "df = df.filter(col(\"txWeightedPhyRate\").isNotNull())\n",
    "df = df.filter(col(\"rxWeightedPhyRate\").isNotNull())\n",
    "\n"
   ]
  },
  {
   "cell_type": "code",
   "execution_count": 7,
   "metadata": {},
   "outputs": [
    {
     "name": "stdout",
     "output_type": "stream",
     "text": [
      "670257\n"
     ]
    }
   ],
   "source": [
    "print(df.count())"
   ]
  },
  {
   "cell_type": "code",
   "execution_count": 8,
   "metadata": {},
   "outputs": [
    {
     "name": "stdout",
     "output_type": "stream",
     "text": [
      "root\n",
      " |-- _c0: string (nullable = true)\n",
      " |-- location_id: string (nullable = true)\n",
      " |-- client_mac: string (nullable = true)\n",
      " |-- freq_band: string (nullable = true)\n",
      " |-- mac_address: string (nullable = true)\n",
      " |-- country: string (nullable = true)\n",
      " |-- vendor_name: string (nullable = true)\n",
      " |-- rssi_percs_25: string (nullable = true)\n",
      " |-- rssi_percs_75: string (nullable = true)\n",
      " |-- isp: string (nullable = true)\n",
      " |-- total_bytes_tx: string (nullable = true)\n",
      " |-- total_bytes_rx: string (nullable = true)\n",
      " |-- ts: string (nullable = true)\n",
      " |-- txWeightedPhyRate: string (nullable = true)\n",
      " |-- rxWeightedPhyRate: string (nullable = true)\n",
      " |-- idtype: string (nullable = true)\n",
      " |-- is_static: string (nullable = true)\n",
      " |-- weighted_prr_tx: string (nullable = true)\n",
      " |-- weighted_prr_rx: string (nullable = true)\n",
      " |-- num_samples: string (nullable = true)\n",
      " |-- is_connected_to_pod: string (nullable = true)\n",
      " |-- pod_serial: string (nullable = true)\n",
      " |-- control_group: string (nullable = true)\n",
      " |-- bandCap2G: string (nullable = true)\n",
      " |-- bandCap5G: string (nullable = true)\n",
      " |-- maxMcs: string (nullable = true)\n",
      " |-- maxNss: string (nullable = true)\n",
      " |-- maxChWidth: string (nullable = true)\n",
      " |-- phyMode: string (nullable = true)\n",
      " |-- isBTMSupported: string (nullable = true)\n",
      "\n"
     ]
    }
   ],
   "source": [
    "df.printSchema()"
   ]
  },
  {
   "cell_type": "code",
   "execution_count": 9,
   "metadata": {},
   "outputs": [
    {
     "name": "stdout",
     "output_type": "stream",
     "text": [
      "root\n",
      " |-- _c0: string (nullable = true)\n",
      " |-- location_id: string (nullable = true)\n",
      " |-- client_mac: string (nullable = true)\n",
      " |-- freq_band: string (nullable = true)\n",
      " |-- mac_address: string (nullable = true)\n",
      " |-- country: string (nullable = true)\n",
      " |-- vendor_name: string (nullable = true)\n",
      " |-- rssi_percs_25: float (nullable = true)\n",
      " |-- rssi_percs_75: string (nullable = true)\n",
      " |-- isp: string (nullable = true)\n",
      " |-- total_bytes_tx: string (nullable = true)\n",
      " |-- total_bytes_rx: string (nullable = true)\n",
      " |-- ts: string (nullable = true)\n",
      " |-- txWeightedPhyRate: float (nullable = true)\n",
      " |-- rxWeightedPhyRate: float (nullable = true)\n",
      " |-- idtype: string (nullable = true)\n",
      " |-- is_static: string (nullable = true)\n",
      " |-- weighted_prr_tx: string (nullable = true)\n",
      " |-- weighted_prr_rx: string (nullable = true)\n",
      " |-- num_samples: string (nullable = true)\n",
      " |-- is_connected_to_pod: string (nullable = true)\n",
      " |-- pod_serial: string (nullable = true)\n",
      " |-- control_group: string (nullable = true)\n",
      " |-- bandCap2G: string (nullable = true)\n",
      " |-- bandCap5G: string (nullable = true)\n",
      " |-- maxMcs: string (nullable = true)\n",
      " |-- maxNss: string (nullable = true)\n",
      " |-- maxChWidth: string (nullable = true)\n",
      " |-- phyMode: string (nullable = true)\n",
      " |-- isBTMSupported: string (nullable = true)\n",
      "\n"
     ]
    }
   ],
   "source": [
    "##converting data type for the required columns\n",
    "df = df.withColumn(\"rssi_percs_25\",col(\"rssi_percs_25\").cast(\"float\"))\n",
    "df = df.withColumn(\"txWeightedPhyRate\",col(\"txWeightedPhyRate\").cast(\"float\"))\n",
    "df = df.withColumn(\"rxWeightedPhyRate\",col(\"rxWeightedPhyRate\").cast(\"float\"))\n",
    "df.printSchema()"
   ]
  },
  {
   "cell_type": "markdown",
   "metadata": {},
   "source": [
    "### Step 1 -Evaluate Phy Rates at Different RSSI levels"
   ]
  },
  {
   "cell_type": "markdown",
   "metadata": {},
   "source": [
    "#### 1. Look at the RSSI levels (rssi_percs_25) and look at the spread of Tx and Rx weighted Phy Rate"
   ]
  },
  {
   "cell_type": "code",
   "execution_count": 10,
   "metadata": {},
   "outputs": [
    {
     "name": "stdout",
     "output_type": "stream",
     "text": [
      "+-------------+---------------------+---------------------+---------------------+---------------------+\n",
      "|rssi_percs_25|min_txWeightedPhyRate|max_txWeightedPhyRate|min_rxWeightedPhyRate|max_rxWeightedPhyRate|\n",
      "+-------------+---------------------+---------------------+---------------------+---------------------+\n",
      "|-95.0        |17.86833             |898.24335            |6.0                  |833.6394             |\n",
      "|-94.0        |86.4496              |86.4496              |35.67153             |35.67153             |\n",
      "|-93.0        |0.0                  |142.72241            |1.0                  |62.446777            |\n",
      "|-92.0        |0.0                  |140.78398            |1.0                  |62.355373            |\n",
      "|-91.0        |0.0                  |142.89555            |1.0                  |112.3168             |\n",
      "|-90.0        |0.0                  |438.51257            |1.0                  |436.0077             |\n",
      "|-89.0        |0.0                  |767.48126            |1.0                  |884.38043            |\n",
      "|-88.0        |0.0                  |733.9036             |1.0                  |668.5038             |\n",
      "|-87.0        |0.0                  |666.1059             |1.0                  |864.2702             |\n",
      "|-86.0        |0.0                  |780.035              |1.0                  |811.3742             |\n",
      "|-85.0        |0.0                  |493.71497            |0.0                  |529.77106            |\n",
      "|-84.0        |0.0                  |686.52704            |1.0                  |653.991              |\n",
      "|-83.0        |0.0                  |919.7223             |1.0                  |828.1344             |\n",
      "|-82.0        |0.0                  |814.77313            |1.0                  |782.5322             |\n",
      "|-81.0        |0.0                  |1077.3871            |1.0                  |853.8184             |\n",
      "|-80.0        |0.0                  |861.2459             |0.0                  |849.9178             |\n",
      "|-79.0        |0.0                  |861.39935            |1.0                  |863.38855            |\n",
      "|-78.0        |0.0                  |946.6125             |1.0                  |849.96735            |\n",
      "|-77.0        |0.0                  |1114.4264            |1.0                  |819.63947            |\n",
      "|-76.0        |0.0                  |926.8088             |1.0                  |862.94495            |\n",
      "|-75.0        |0.0                  |869.78973            |1.0                  |816.36633            |\n",
      "|-74.0        |0.0                  |1065.0736            |1.0                  |860.23315            |\n",
      "|-73.0        |0.0                  |862.23926            |1.0                  |851.6378             |\n",
      "|-72.0        |0.0                  |1086.7894            |1.0                  |854.448              |\n",
      "|-71.0        |0.0                  |866.6667             |1.0                  |854.22534            |\n",
      "|-70.0        |0.0                  |881.55725            |1.0                  |840.0425             |\n",
      "|-69.0        |0.0                  |935.34674            |1.0                  |856.21265            |\n",
      "|-68.0        |0.0                  |1100.865             |0.0                  |1259.6912            |\n",
      "|-67.0        |0.0                  |975.0                |0.0                  |859.6192             |\n",
      "|-66.0        |0.0                  |967.1087             |0.0                  |911.2367             |\n",
      "|-65.0        |0.0                  |1133.3265            |0.0                  |1253.5375            |\n",
      "|-64.0        |0.0                  |1199.8225            |0.0                  |943.0836             |\n",
      "|-63.0        |0.0                  |1241.7098            |0.0                  |989.557              |\n",
      "|-62.0        |0.0                  |1294.6265            |0.0                  |1052.3733            |\n",
      "|-61.0        |0.0                  |1182.5571            |0.0                  |1154.7162            |\n",
      "|-60.0        |0.0                  |1300.0               |0.0                  |1212.6255            |\n",
      "|-59.0        |0.0                  |1300.0               |0.0                  |975.5725             |\n",
      "|-58.0        |0.0                  |1299.9               |0.0                  |1290.5223            |\n",
      "|-57.0        |0.0                  |1291.3638            |0.0                  |1275.5732            |\n",
      "|-56.0        |0.0                  |1300.0               |0.0                  |1268.5957            |\n",
      "|-55.0        |0.0                  |1300.0               |0.0                  |1165.0483            |\n",
      "|-54.0        |0.0                  |1300.0               |0.0                  |1132.2411            |\n",
      "|-53.0        |0.0                  |1300.0               |0.0                  |1180.0381            |\n",
      "|-52.0        |0.0                  |1300.0               |0.0                  |1291.3857            |\n",
      "|-51.0        |0.0                  |1300.0               |0.0                  |1300.0               |\n",
      "|-50.0        |0.0                  |1300.0               |1.0                  |1300.0               |\n",
      "|-49.0        |0.0                  |1300.0               |1.0                  |1296.8699            |\n",
      "|-48.0        |0.0                  |1300.0002            |1.0                  |1300.0001            |\n",
      "|-47.0        |0.0                  |1300.0001            |1.0                  |1300.0001            |\n",
      "|-46.0        |0.0                  |1300.0001            |1.0                  |1300.0001            |\n",
      "|-45.0        |0.0                  |1300.0               |1.0                  |1300.0               |\n",
      "|-44.0        |0.0                  |1300.0001            |1.0                  |1300.0001            |\n",
      "|-43.0        |0.0                  |1300.0001            |1.0                  |1300.0001            |\n",
      "|-42.0        |0.0                  |1300.0001            |1.0                  |1300.0001            |\n",
      "|-41.0        |0.0                  |1300.0               |1.0                  |1300.0               |\n",
      "|-40.0        |0.0                  |1300.0               |1.0                  |1300.0               |\n",
      "|-39.0        |0.0                  |1300.0001            |1.0                  |1297.0524            |\n",
      "|-38.0        |0.0                  |1300.0               |1.0                  |1300.0               |\n",
      "|-37.0        |0.0                  |1298.942             |0.0                  |1297.8806            |\n",
      "|-36.0        |0.0                  |1300.0001            |0.0                  |1299.979             |\n",
      "|-35.0        |0.0                  |1300.0001            |1.0                  |1299.9879            |\n",
      "|-34.0        |0.0                  |1300.0001            |1.0                  |1300.0               |\n",
      "|-33.0        |0.0                  |1300.0001            |1.0                  |1300.0               |\n",
      "|-32.0        |0.0                  |1300.0               |0.0                  |1300.0001            |\n",
      "|-31.0        |0.0                  |1300.0               |0.0                  |1300.0               |\n",
      "|-30.0        |0.0                  |1300.0001            |0.0                  |1300.0001            |\n",
      "|-29.0        |0.0                  |1300.0002            |1.0                  |1300.0001            |\n",
      "|-28.0        |0.0                  |1300.0001            |3.1785753            |1300.0002            |\n",
      "|-27.0        |0.0                  |1300.0001            |6.0                  |1300.0001            |\n",
      "|-26.0        |0.0                  |1300.0               |6.0                  |1300.0               |\n",
      "|-25.0        |0.0                  |1193.5188            |1.0                  |1300.0               |\n",
      "|-24.0        |0.0                  |1048.045             |1.0                  |867.06604            |\n",
      "|-23.0        |0.0                  |1300.0               |1.0                  |1300.0               |\n",
      "|-22.0        |0.0                  |1300.0001            |1.0                  |1300.0               |\n",
      "|-21.0        |0.0                  |1300.0               |6.0                  |1300.0001            |\n",
      "|-20.0        |0.0                  |1300.0001            |5.984528             |906.69696            |\n",
      "|-19.0        |0.0                  |1300.0               |5.09947              |939.3813             |\n",
      "|-18.0        |30.537481            |1300.0               |4.78                 |1300.0001            |\n",
      "|-17.0        |24.57375             |1300.0               |6.0                  |1300.0               |\n",
      "|-16.0        |30.506052            |1266.6848            |6.0                  |1285.823             |\n",
      "|-15.0        |30.16401             |1300.0001            |4.0923595            |1299.3804            |\n",
      "|-14.0        |0.0                  |1300.0001            |1.0                  |1299.8671            |\n",
      "|-13.0        |0.0                  |1300.0001            |1.0                  |996.144              |\n",
      "|-12.0        |0.0                  |1300.0001            |1.0                  |1298.4164            |\n",
      "|-11.0        |0.0                  |1300.0               |1.0                  |1298.7281            |\n",
      "|-10.0        |33.509693            |649.77               |49.364292            |498.44962            |\n",
      "|-9.0         |139.64027            |258.21252            |125.53303            |145.85953            |\n",
      "|-7.0         |260.60565            |1023.0104            |227.9936             |672.4068             |\n",
      "|-6.0         |738.47565            |1037.1409            |419.17706            |705.14636            |\n",
      "|-5.0         |380.11505            |978.0491             |6.0                  |697.29004            |\n",
      "|-4.0         |200.48012            |200.48012            |24.401987            |24.401987            |\n",
      "|-3.0         |366.68375            |366.68375            |321.8057             |321.8057             |\n",
      "|-2.0         |6.0                  |532.1315             |43.955055            |418.2733             |\n",
      "|-1.0         |19.082928            |326.75272            |48.0                 |536.21735            |\n",
      "|32.0         |115.55555            |653.0                |30.196363            |134.29218            |\n",
      "+-------------+---------------------+---------------------+---------------------+---------------------+\n",
      "\n"
     ]
    }
   ],
   "source": [
    "df.groupBy(\"rssi_percs_25\").agg(min(\"txWeightedPhyRate\").alias(\"min_txWeightedPhyRate\"),max(\"txWeightedPhyRate\").alias(\"max_txWeightedPhyRate\"),min(\"rxWeightedPhyRate\").alias(\"min_rxWeightedPhyRate\"),max(\"rxWeightedPhyRate\").alias(\"max_rxWeightedPhyRate\")).orderBy(\"rssi_percs_25\").show(100,False)"
   ]
  },
  {
   "cell_type": "markdown",
   "metadata": {},
   "source": [
    "#### 2. Produce a histogram (graph and CSV) for the average Tx and Rx Weighed Phy Rate between -85 and -65 dB in 1 dB steps"
   ]
  },
  {
   "cell_type": "code",
   "execution_count": 11,
   "metadata": {},
   "outputs": [],
   "source": [
    "#filter data for rssi_percs_25 between -85dB and -65dB\n",
    "temp_df = df.filter((col(\"rssi_percs_25\")>=-85) & (col(\"rssi_percs_25\")<=-65))\n",
    "# print(temp_df.agg(min(\"rssi_percs_25\"),max(\"rssi_percs_25\")).show())"
   ]
  },
  {
   "cell_type": "code",
   "execution_count": 12,
   "metadata": {},
   "outputs": [
    {
     "name": "stdout",
     "output_type": "stream",
     "text": [
      "+-------------+---------------------+---------------------+\n",
      "|rssi_percs_25|avg_txWeightedPhyRate|avg_rxWeightedPhyRate|\n",
      "+-------------+---------------------+---------------------+\n",
      "|-85.0        |38.32                |18.49                |\n",
      "|-84.0        |43.28                |19.94                |\n",
      "|-83.0        |58.01                |26.48                |\n",
      "|-82.0        |77.85                |33.81                |\n",
      "|-81.0        |98.22                |42.02                |\n",
      "|-80.0        |92.05                |45.74                |\n",
      "|-79.0        |99.06                |52.27                |\n",
      "|-78.0        |103.78               |61.62                |\n",
      "|-77.0        |108.89               |68.47                |\n",
      "|-76.0        |117.44               |73.83                |\n",
      "|-75.0        |124.28               |81.56                |\n",
      "|-74.0        |128.11               |89.09                |\n",
      "|-73.0        |133.94               |96.23                |\n",
      "|-72.0        |135.43               |96.84                |\n",
      "|-71.0        |142.14               |103.02               |\n",
      "|-70.0        |148.44               |111.18               |\n",
      "|-69.0        |150.49               |118.54               |\n",
      "|-68.0        |160.07               |130.78               |\n",
      "|-67.0        |174.94               |145.7                |\n",
      "|-66.0        |200.79               |172.78               |\n",
      "|-65.0        |220.55               |197.18               |\n",
      "+-------------+---------------------+---------------------+\n",
      "\n",
      "None\n"
     ]
    }
   ],
   "source": [
    "#calculating average tx and rx weighted phy rate across rssi_percs_25\n",
    "temp_df = temp_df.groupby(\"rssi_percs_25\").agg(round(avg(\"txWeightedPhyRate\"),2).alias(\"avg_txWeightedPhyRate\"),round(avg(\"rxWeightedPhyRate\"),2).alias(\"avg_rxWeightedPhyRate\"))\n",
    "print(temp_df.orderBy(\"rssi_percs_25\").show(100,False))\n",
    "temp_df.coalesce(1).write.csv('tx_and_rx_average_value_across_rssi_percs_25.csv',mode='overwrite',header=True)\n"
   ]
  },
  {
   "cell_type": "markdown",
   "metadata": {},
   "source": [
    "### Step 2: Evaluate RSSI threshold"
   ]
  },
  {
   "cell_type": "markdown",
   "metadata": {},
   "source": [
    "#### 1. % of devices connected to 2.4 GHz and 5 GHz¶"
   ]
  },
  {
   "cell_type": "code",
   "execution_count": 13,
   "metadata": {},
   "outputs": [
    {
     "name": "stdout",
     "output_type": "stream",
     "text": [
      "+---------+------------------------------+----------------------+\n",
      "|freq_band|total_unique_connected_devices|%age_connected_devices|\n",
      "+---------+------------------------------+----------------------+\n",
      "|     2.4G|                          7468|                 51.33|\n",
      "|       5G|                          7080|                 48.67|\n",
      "+---------+------------------------------+----------------------+\n",
      "\n"
     ]
    }
   ],
   "source": [
    "temp_df = df.groupBy(\"freq_band\").agg(countDistinct(\"client_mac\").alias(\"total_unique_connected_devices\"))\n",
    "total_unique_devices = temp_df.agg(sum(\"total_unique_connected_devices\")).rdd.flatMap(lambda x:x).collect()[0]\n",
    "temp_df = temp_df.withColumn(\"%age_connected_devices\",round((col(\"total_unique_connected_devices\")/total_unique_devices)*100,2))\n",
    "temp_df.show()"
   ]
  },
  {
   "cell_type": "markdown",
   "metadata": {},
   "source": [
    "Finding : 51% of total devices are connected to 2.4G where as 49% of devices are connected to 5G"
   ]
  },
  {
   "cell_type": "markdown",
   "metadata": {},
   "source": [
    "#### 2. Evaluating new freq basis business rule"
   ]
  },
  {
   "cell_type": "code",
   "execution_count": 14,
   "metadata": {},
   "outputs": [],
   "source": [
    "from pyspark.sql.types import *\n",
    "def get_new_freq_band(freq_band,rssi_percs_25):\n",
    "    if ((freq_band=='2.4G') & (rssi_percs_25 >= -60)):\n",
    "        return '5G'\n",
    "    elif ((freq_band=='5G') & (rssi_percs_25 <= -75)):\n",
    "        return '2.4G'\n",
    "    elif ((freq_band=='5G') & (rssi_percs_25 > -75)):\n",
    "        return '5G'\n",
    "    elif ((freq_band=='2.4G') & (rssi_percs_25 < -60)):\n",
    "        return '2.4G'\n",
    "generate_new_freq_band_udf = udf(get_new_freq_band, StringType())\n",
    "\n",
    "df = df.withColumn('new_freq_band',generate_new_freq_band_udf(col(\"freq_band\"),col(\"rssi_percs_25\")))\n"
   ]
  },
  {
   "cell_type": "code",
   "execution_count": 15,
   "metadata": {},
   "outputs": [
    {
     "name": "stdout",
     "output_type": "stream",
     "text": [
      "+-------------+------------------------------+----------------------+\n",
      "|new_freq_band|total_unique_connected_devices|%age_connected_devices|\n",
      "+-------------+------------------------------+----------------------+\n",
      "|         2.4G|                          6243|                  40.4|\n",
      "|           5G|                          9211|                  59.6|\n",
      "+-------------+------------------------------+----------------------+\n",
      "\n"
     ]
    }
   ],
   "source": [
    "temp_df = df.groupBy(\"new_freq_band\").agg(countDistinct(\"client_mac\").alias(\"total_unique_connected_devices\"))\n",
    "total_unique_devices = temp_df.agg(sum(\"total_unique_connected_devices\")).rdd.flatMap(lambda x:x).collect()[0]\n",
    "temp_df = temp_df.withColumn(\"%age_connected_devices\",round((col(\"total_unique_connected_devices\")/total_unique_devices)*100,2))\n",
    "temp_df.show()"
   ]
  },
  {
   "cell_type": "markdown",
   "metadata": {},
   "source": [
    "Findings : Post making the transition to new_freq_band, 40% of total devices are connected to 2.4G whereas for 5G band %age connected device increased to 60%\n",
    "\n",
    "Yes, Post transition there will be more devices connected to 5G"
   ]
  },
  {
   "cell_type": "code",
   "execution_count": null,
   "metadata": {},
   "outputs": [],
   "source": []
  }
 ],
 "metadata": {
  "kernelspec": {
   "display_name": "Python 3",
   "language": "python",
   "name": "python3"
  },
  "language_info": {
   "codemirror_mode": {
    "name": "ipython",
    "version": 3
   },
   "file_extension": ".py",
   "mimetype": "text/x-python",
   "name": "python",
   "nbconvert_exporter": "python",
   "pygments_lexer": "ipython3",
   "version": "3.7.6"
  }
 },
 "nbformat": 4,
 "nbformat_minor": 4
}
